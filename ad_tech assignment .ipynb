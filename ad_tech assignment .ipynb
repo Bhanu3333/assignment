{
 "cells": [
  {
   "cell_type": "markdown",
   "metadata": {},
   "source": [
    "# Adtech-Assignment "
   ]
  },
  {
   "cell_type": "code",
   "execution_count": 1,
   "metadata": {},
   "outputs": [
    {
     "name": "stdout",
     "output_type": "stream",
     "text": [
      "salt - 2 qty,soap - 2 qty\n",
      "salt-A3 soap-A4 "
     ]
    }
   ],
   "source": [
    "store_A1={\"prices\":{'salt':10,'sugar':50,'soap':40,},'delivery_charge':5} \n",
    "store_A2={\"prices\":{'salt':10,'sugar':30,'soap':12,},'delivery_charge':10}\n",
    "store_A3={\"prices\":{'salt':10,'sugar':50,'soap':15,},'delivery_charge':5} \n",
    "store_A4={\"prices\":{'salt':11,'sugar':33,'soap':8,},'delivery_charge':3} \n",
    "def best_store(product):\n",
    "    sample_products=store_A1.get('prices') \n",
    "    sample_product=sample_products.get(product)\n",
    "    store='A1'\n",
    "    sample_delivery_charge=store_A1.get('delivery_charge') \n",
    "    while True:\n",
    "        sample_products,delivery_charge=store_A2.get('prices'),store_A2.get('delivery_charge')\n",
    "        temp_product=sample_products.get(product)  \n",
    "        if temp_product<=sample_product  and sample_delivery_charge>=delivery_charge:\n",
    "            sample_product=temp_product\n",
    "            store='A2' \n",
    "        sample_products,delivery_charge=store_A3.get('prices'),store_A3.get('delivery_charge')\n",
    "        temp_product=sample_products.get(product)  \n",
    "        if temp_product<=sample_product  and sample_delivery_charge>=delivery_charge:\n",
    "            sample_product=temp_product\n",
    "            store='A3' \n",
    "        sample_products,delivery_charge=store_A4.get('prices'),store_A4.get('delivery_charge')\n",
    "        temp_product=sample_products.get(product)  \n",
    "        if temp_product<=sample_product  and sample_delivery_charge>=delivery_charge:\n",
    "            sample_one=temp_product\n",
    "            store='A4' \n",
    "        break \n",
    "    return store\n",
    "x=input().split(',') \n",
    "for product in x:\n",
    "    product=product.split() \n",
    "    print(product[0]+'-'+best_store(product[0]),end=\" \")\n"
   ]
  }
 ],
 "metadata": {
  "kernelspec": {
   "display_name": "Python 3",
   "language": "python",
   "name": "python3"
  },
  "language_info": {
   "codemirror_mode": {
    "name": "ipython",
    "version": 3
   },
   "file_extension": ".py",
   "mimetype": "text/x-python",
   "name": "python",
   "nbconvert_exporter": "python",
   "pygments_lexer": "ipython3",
   "version": "3.7.4"
  }
 },
 "nbformat": 4,
 "nbformat_minor": 2
}
